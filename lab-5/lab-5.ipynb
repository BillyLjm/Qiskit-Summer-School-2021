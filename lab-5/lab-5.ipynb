{
 "cells": [
  {
   "attachments": {},
   "cell_type": "markdown",
   "id": "7918a704",
   "metadata": {},
   "source": [
    "<div>\n",
    "<img src=\"../qgssqml2021wordmark.png\"/>\n",
    "</div>"
   ]
  },
  {
   "cell_type": "markdown",
   "id": "3dab1791",
   "metadata": {},
   "source": [
    "In this lab, you will see how noise affects a typical parameterized quantum circuit used in machine learning using quantum process tomography. "
   ]
  },
  {
   "cell_type": "markdown",
   "id": "2c369609",
   "metadata": {},
   "source": [
    "<div class=\"alert alert-danger\" role=\"alert\">\n",
    "For grading purposes, please specify all simulator arguments (<i>noise_model=noise_thermal, seed_simulator=3145, seed_transpiler=3145, shots=8192</i>) in the <b><i>execute</i></b> function.\n",
    "</div>"
   ]
  },
  {
   "cell_type": "code",
   "execution_count": 1,
   "id": "a9512611",
   "metadata": {},
   "outputs": [],
   "source": [
    "# General tools\n",
    "import numpy as np\n",
    "import matplotlib.pyplot as plt\n",
    "\n",
    "# Qiskit Circuit Functions\n",
    "from qiskit import  execute, QuantumCircuit, QuantumRegister, ClassicalRegister, Aer, transpile\n",
    "import qiskit.quantum_info as qi\n",
    "\n",
    "# Tomography functions\n",
    "from qiskit.ignis.verification.tomography import process_tomography_circuits, ProcessTomographyFitter\n",
    "from qiskit.ignis.mitigation.measurement import complete_meas_cal, CompleteMeasFitter\n",
    "\n",
    "import warnings \n",
    "warnings.filterwarnings('ignore')"
   ]
  },
  {
   "attachments": {},
   "cell_type": "markdown",
   "id": "70ac768b",
   "metadata": {},
   "source": [
    "### Question 1\n",
    "- Make this Quantum Circuit\n",
    "\n",
    "<div>\n",
    "<img src=\"img/lab5ex1.png\"/>\n",
    "</div>"
   ]
  },
  {
   "cell_type": "code",
   "execution_count": 2,
   "id": "2f567357",
   "metadata": {},
   "outputs": [
    {
     "data": {
      "image/png": "[encoded data removed]",
      "text/plain": [
       "<Figure size 387.452x144.48 with 1 Axes>"
      ]
     },
     "execution_count": 2,
     "metadata": {},
     "output_type": "execute_result"
    }
   ],
   "source": [
    "from qiskit.circuit.library import PauliFeatureMap\n",
    "\n",
    "target = QuantumCircuit(2)\n",
    "target = PauliFeatureMap(2, reps=1, paulis=['YY']).bind_parameters([np.pi/2, np.pi-1]) # YOUR CODE HERE\n",
    "del target.data[-2:] # remove last RXs (from Z to Y)\n",
    "target_unitary = qi.Operator(target)\n",
    "\n",
    "target.draw(\"mpl\")"
   ]
  },
  {
   "cell_type": "code",
   "execution_count": 3,
   "id": "b38cb683",
   "metadata": {},
   "outputs": [
    {
     "name": "stdout",
     "output_type": "stream",
     "text": [
      "Submitting your answer for lab5/ex1. Please wait...\n",
      "Congratulations 🎉! Your answer is correct and has been submitted.\n"
     ]
    }
   ],
   "source": [
    "from qc_grader import grade_lab5_ex1\n",
    "\n",
    "# Note that the grading function is expecting a quantum circuit with no measurements\n",
    "grade_lab5_ex1(target)"
   ]
  },
  {
   "cell_type": "markdown",
   "id": "bf8a8128",
   "metadata": {},
   "source": [
    "# Quantum Process Tomography with Only Shot Noise\n",
    "Here we will now use the `qasm_simulator` to simulate a Quantum Process Tomography Circuit\n",
    "\n",
    "### Question 2a\n",
    "- Using the Process Tomography Circuits function built into qiskit, create the set of circuits to do quantum process tomography and simulation with a qasm simulator (with shot noise only). For this please use the execute function of the QPT Circuits with `seed_simulator=3145`, `seed_transpiler=3145` and `shots=8192`. \n",
    "\n",
    "\n",
    "- _Hint: The appropriate function, <a href=\"https://qiskit.org/documentation/stubs/qiskit.ignis.verification.process_tomography_circuits.html\">process_tomography_circuits</a>, has been imported above. When complete you should have a total of 144 circuits that are given to the `qasm_simulator` via the `execute` function. You can find out the number of circuits created using `len(qpt_circs)`._"
   ]
  },
  {
   "cell_type": "code",
   "execution_count": 4,
   "id": "8d351f33",
   "metadata": {},
   "outputs": [
    {
     "name": "stdout",
     "output_type": "stream",
     "text": [
      "144\n"
     ]
    }
   ],
   "source": [
    "simulator = Aer.get_backend('qasm_simulator')\n",
    "qpt_circs = process_tomography_circuits(target, [0,1]) # YOUR CODE HERE\n",
    "qpt_job = execute(qpt_circs,simulator,seed_simulator=3145,seed_transpiler=3145,shots=8192)\n",
    "qpt_result = qpt_job.result()\n",
    "\n",
    "print(len(qpt_circs))"
   ]
  },
  {
   "cell_type": "markdown",
   "id": "f53e3179",
   "metadata": {},
   "source": [
    "### Question 2b\n",
    "- Using a least squares fitting method for the Process Tomography Fitter, determine the fidelity of your target unitary\n",
    "\n",
    "\n",
    "\n",
    "- _Hint: First use the <a href=\"https://qiskit.org/documentation/stubs/qiskit.ignis.verification.ProcessTomographyFitter.html\">ProcessTomographyFitter</a> function above to process the results from question 2a and use ProcessTomographyFitter.fit(method='....') to extract the \"Choi Matrix\", which effectively describes the measured unitary operation.  From here you will use the <a href=\"https://qiskit.org/documentation/stubs/qiskit.quantum_info.average_gate_fidelity.html#qiskit.quantum_info.average_gate_fidelity\">average_gate_fidelity</a> function from the quantum information module to extract the achieved fidelity of your results_"
   ]
  },
  {
   "cell_type": "code",
   "execution_count": 5,
   "id": "c6ae7636",
   "metadata": {},
   "outputs": [
    {
     "name": "stdout",
     "output_type": "stream",
     "text": [
      "0.9926697818280223\n"
     ]
    }
   ],
   "source": [
    "# YOUR CODE HERE\n",
    "from qiskit.quantum_info import average_gate_fidelity\n",
    "\n",
    "qpt_fitter = ProcessTomographyFitter(qpt_result, qpt_circs)\n",
    "qpt_fit = qpt_fitter.fit(method=\"lstsq\")\n",
    "fidelity = average_gate_fidelity(qpt_fit, target_unitary)\n",
    "\n",
    "print(fidelity)"
   ]
  },
  {
   "cell_type": "code",
   "execution_count": 6,
   "id": "217be084",
   "metadata": {},
   "outputs": [
    {
     "name": "stdout",
     "output_type": "stream",
     "text": [
      "Submitting your answer for lab5/ex2. Please wait...\n",
      "Congratulations 🎉! Your answer is correct and has been submitted.\n"
     ]
    }
   ],
   "source": [
    "from qc_grader import grade_lab5_ex2\n",
    "\n",
    "# Note that the grading function is expecting a floating point number\n",
    "grade_lab5_ex2(fidelity)"
   ]
  },
  {
   "cell_type": "markdown",
   "id": "41ece4eb",
   "metadata": {},
   "source": [
    "# Quantum Process Tomography with a T1/T2 Noise Model\n",
    "For the sake of consistency, let's set some values to characterize the duration of our gates and T1/T2 times:"
   ]
  },
  {
   "cell_type": "code",
   "execution_count": 7,
   "id": "1179cda4",
   "metadata": {},
   "outputs": [],
   "source": [
    "# T1 and T2 values for qubits 0-3\n",
    "T1s = [15000, 19000, 22000, 14000]\n",
    "T2s = [30000, 25000, 18000, 28000]\n",
    "\n",
    "# Instruction times (in nanoseconds)\n",
    "time_u1 = 0   # virtual gate\n",
    "time_u2 = 50  # (single X90 pulse)\n",
    "time_u3 = 100 # (two X90 pulses)\n",
    "time_cx = 300\n",
    "time_reset = 1000  # 1 microsecond\n",
    "time_measure = 1000 # 1 microsecond"
   ]
  },
  {
   "cell_type": "code",
   "execution_count": 8,
   "id": "4abc6e36",
   "metadata": {},
   "outputs": [],
   "source": [
    "from qiskit.providers.aer.noise import thermal_relaxation_error\n",
    "from qiskit.providers.aer.noise import NoiseModel"
   ]
  },
  {
   "cell_type": "markdown",
   "id": "ef9bb35c",
   "metadata": {},
   "source": [
    "### Question 3\n",
    "- Using the Thermal Relaxation Error model built into qiskit, define `u1`,`u2`,`u3`, `cx`, `measure` and `reset` errors using the values for qubits 0-3 defined above, and build a thermal noise model.\n",
    "\n",
    "\n",
    "- _Hint: The Qiskit tutorial on <a href=\"https://github.com/Qiskit/qiskit-tutorials/blob/master/tutorials/simulators/3_building_noise_models.ipynb\">building noise models</a>  will prove to be useful, particularly where they add quantum errors for `u1`,`u2`,`u3`,`cx`, `reset`, and `measure` errors (please include all of these)._"
   ]
  },
  {
   "cell_type": "code",
   "execution_count": 9,
   "id": "3b2fe51b",
   "metadata": {},
   "outputs": [],
   "source": [
    "# QuantumError objects\n",
    "errors_reset = [thermal_relaxation_error(t1, t2, time_reset)\n",
    "                for t1, t2 in zip(T1s, T2s)]\n",
    "errors_measure = [thermal_relaxation_error(t1, t2, time_measure)\n",
    "                  for t1, t2 in zip(T1s, T2s)]\n",
    "errors_u1  = [thermal_relaxation_error(t1, t2, time_u1)\n",
    "              for t1, t2 in zip(T1s, T2s)]\n",
    "errors_u2  = [thermal_relaxation_error(t1, t2, time_u2)\n",
    "              for t1, t2 in zip(T1s, T2s)]\n",
    "errors_u3  = [thermal_relaxation_error(t1, t2, time_u3)\n",
    "              for t1, t2 in zip(T1s, T2s)]\n",
    "errors_cx = [[thermal_relaxation_error(t1a, t2a, time_cx).expand(\n",
    "             thermal_relaxation_error(t1b, t2b, time_cx))\n",
    "              for t1a, t2a in zip(T1s, T2s)]\n",
    "               for t1b, t2b in zip(T1s, T2s)]\n",
    "\n",
    "# Add errors to noise model\n",
    "noise_thermal = NoiseModel()\n",
    "\n",
    "# YOUR CODE HERE\n",
    "for i in range(4):\n",
    "    noise_thermal.add_quantum_error(errors_reset[i], ['reset'], [i])\n",
    "    noise_thermal.add_quantum_error(errors_measure[i], ['measure'], [i])\n",
    "    noise_thermal.add_quantum_error(errors_u1[i], ['u1'], [i])\n",
    "    noise_thermal.add_quantum_error(errors_u2[i], ['u2'], [i])\n",
    "    noise_thermal.add_quantum_error(errors_u3[i], ['u3'], [i])\n",
    "    for j in range(4):\n",
    "        noise_thermal.add_quantum_error(errors_cx[i][j], ['cx'], [i,j])"
   ]
  },
  {
   "cell_type": "code",
   "execution_count": 10,
   "id": "c6dd814c",
   "metadata": {},
   "outputs": [
    {
     "name": "stdout",
     "output_type": "stream",
     "text": [
      "Submitting your answer for lab5/ex3. Please wait...\n",
      "Congratulations 🎉! Your answer is correct and has been submitted.\n"
     ]
    }
   ],
   "source": [
    "from qc_grader import grade_lab5_ex3\n",
    "\n",
    "# Note that the grading function is expecting a NoiseModel\n",
    "grade_lab5_ex3(noise_thermal)"
   ]
  },
  {
   "cell_type": "markdown",
   "id": "528ff72a",
   "metadata": {},
   "source": [
    "### Question 4.\n",
    "- Get a QPT fidelity using the noise model,but without using any error mitigation techniques.  Again, use `seed_simulator=3145`, `seed_transpiler=3145` and `shots=8192` for the `execute` function\n",
    "\n",
    "\n",
    "\n",
    "- _Hint: The process here should be very similar to that in question 2a/b, except you will need to ensure you include the noise model from question 3 in the `execute` function_"
   ]
  },
  {
   "cell_type": "code",
   "execution_count": 11,
   "id": "37a24321",
   "metadata": {},
   "outputs": [
    {
     "name": "stdout",
     "output_type": "stream",
     "text": [
      "0.895962996242963\n"
     ]
    }
   ],
   "source": [
    "np.random.seed(0)\n",
    "\n",
    "# YOUR CODE HERE\n",
    "noise_job = execute(qpt_circs,simulator,seed_simulator=3145,seed_transpiler=3145,shots=8192,noise_model=noise_thermal)\n",
    "noise_result = noise_job.result()\n",
    "noise_fitter = ProcessTomographyFitter(noise_result, qpt_circs)\n",
    "noise_fit = noise_fitter.fit(method=\"lstsq\")\n",
    "fidelity = average_gate_fidelity(noise_fit, target_unitary)\n",
    "\n",
    "print(fidelity)"
   ]
  },
  {
   "cell_type": "code",
   "execution_count": 12,
   "id": "0982a3d0",
   "metadata": {},
   "outputs": [
    {
     "name": "stdout",
     "output_type": "stream",
     "text": [
      "Submitting your answer for lab5/ex4. Please wait...\n",
      "Congratulations 🎉! Your answer is correct and has been submitted.\n"
     ]
    }
   ],
   "source": [
    "from qc_grader import grade_lab5_ex4\n",
    "\n",
    "# Note that the grading function is expecting a floating point number\n",
    "grade_lab5_ex4(fidelity)"
   ]
  },
  {
   "cell_type": "markdown",
   "id": "abdfd9ab",
   "metadata": {},
   "source": [
    "### Question 5. \n",
    "- Use the `complete_meas_cal` function built into qiskit and apply to the QPT results in the previous question. For both, use the `execute` function and `seed_simulator=3145`, `seed_transpiler=3145` and `shots=8192`. Also include the noise model from question 3 in the `execute` function.\n",
    "\n",
    "\n",
    "- *Hint: The Qiskit textbook has a very good chapter on <a href=\"https://qiskit.org/textbook/ch-quantum-hardware/measurement-error-mitigation.html\">`readout error mitigation`</a>. Specifically, you will want to use the <a href=\"https://qiskit.org/documentation/stubs/qiskit.ignis.mitigation.complete_meas_cal.html\">`complete_meas_cal`</a>  function to generate the desired set of circuits to create the calibration matrix with <a href=\"https://qiskit.org/documentation/stubs/qiskit.ignis.mitigation.CompleteMeasFitter.html\">`CompleteMeasureFitter`</a> function. This can then be used to generate a correction matrix <a href=\"https://qiskit.org/documentation/stubs/qiskit.ignis.mitigation.CompleteMeasFitter.html#qiskit.ignis.mitigation.CompleteMeasFitter.filter\">`meas_filter`</a>. Apply this function to the results from question 4.*"
   ]
  },
  {
   "cell_type": "code",
   "execution_count": 13,
   "id": "22b56dcb",
   "metadata": {},
   "outputs": [
    {
     "name": "stdout",
     "output_type": "stream",
     "text": [
      "0.9599277490063226\n"
     ]
    }
   ],
   "source": [
    "np.random.seed(0)\n",
    "\n",
    "# YOUR CODE HERE\n",
    "## create measurement filter\n",
    "meas_circs, meas_labels = complete_meas_cal([0,1])\n",
    "meas_job = execute(meas_circs,simulator,seed_simulator=3145,seed_transpiler=3145,shots=8192,noise_model=noise_thermal)\n",
    "meas_result = meas_job.result()\n",
    "meas_fitter = CompleteMeasFitter(meas_result, meas_labels)\n",
    "meas_filter = meas_fitter.filter\n",
    "\n",
    "## apply measurement filter\n",
    "meas_result = meas_filter.apply(noise_result)\n",
    "meas_fitter = ProcessTomographyFitter(meas_result, qpt_circs)\n",
    "meas_fit = meas_fitter.fit(method=\"lstsq\")\n",
    "fidelity = average_gate_fidelity(meas_fit, target_unitary)\n",
    "\n",
    "print(fidelity)"
   ]
  },
  {
   "cell_type": "code",
   "execution_count": 14,
   "id": "bd1d0a66",
   "metadata": {},
   "outputs": [
    {
     "name": "stdout",
     "output_type": "stream",
     "text": [
      "Submitting your answer for lab5/ex5. Please wait...\n",
      "Congratulations 🎉! Your answer is correct and has been submitted.\n"
     ]
    }
   ],
   "source": [
    "from qc_grader import grade_lab5_ex5\n",
    "\n",
    "# Note that the grading function is expecting a floating point number\n",
    "grade_lab5_ex5(fidelity)"
   ]
  },
  {
   "cell_type": "markdown",
   "id": "4e03a109",
   "metadata": {},
   "source": [
    "### Exploratory Question 6.\n",
    "- Test how the gate fidelity depends on the CX duration by running noise models with varying cx durations (but leaving everything else fixed).  \n",
    "\n",
    "(Note: this would ideally be done using the scaling technique discussed in the previous lecture, but due to backend availability limitations we are instead demonstrating the effect by adjusting duration of the CX itself.  This is not exactly how this is implemented on the hardware itself as the gates are not full CX gates.)"
   ]
  },
  {
   "cell_type": "code",
   "execution_count": 15,
   "id": "cb81fb57",
   "metadata": {},
   "outputs": [],
   "source": [
    "times_cx = range(100, 10001, 100)\n",
    "fidelities = []\n",
    "\n",
    "for time_cx in times_cx:\n",
    "    # calculate cx error\n",
    "    errors_cx = [[thermal_relaxation_error(t1a, t2a, time_cx).expand(\n",
    "             thermal_relaxation_error(t1b, t2b, time_cx))\n",
    "              for t1a, t2a in zip(T1s, T2s)]\n",
    "               for t1b, t2b in zip(T1s, T2s)]\n",
    "    \n",
    "    # create noise model\n",
    "    noise_thermal = NoiseModel()\n",
    "    for i in range(4):\n",
    "        noise_thermal.add_quantum_error(errors_reset[i], ['reset'], [i])\n",
    "        noise_thermal.add_quantum_error(errors_measure[i], ['measure'], [i])\n",
    "        noise_thermal.add_quantum_error(errors_u1[i], ['u1'], [i])\n",
    "        noise_thermal.add_quantum_error(errors_u2[i], ['u2'], [i])\n",
    "        noise_thermal.add_quantum_error(errors_u3[i], ['u3'], [i])\n",
    "        for j in range(4):\n",
    "            noise_thermal.add_quantum_error(errors_cx[i][j], ['cx'], [i,j])\n",
    "            \n",
    "    # noisy simultation\n",
    "    noise_job = execute(qpt_circs,simulator,seed_simulator=3145,seed_transpiler=3145,shots=8192,noise_model=noise_thermal)\n",
    "    noise_result = noise_job.result()\n",
    "    \n",
    "    # calculate fidelity\n",
    "    noise_fitter = ProcessTomographyFitter(noise_result, qpt_circs)\n",
    "    noise_fit = noise_fitter.fit(method=\"lstsq\")\n",
    "    fidelity = average_gate_fidelity(noise_fit, target_unitary)\n",
    "    fidelities.append(fidelity)"
   ]
  },
  {
   "cell_type": "code",
   "execution_count": 16,
   "id": "240ad5c1",
   "metadata": {},
   "outputs": [
    {
     "data": {
      "image/png": "[encoded data removed]",
      "text/plain": [
       "<Figure size 432x288 with 1 Axes>"
      ]
     },
     "metadata": {
      "needs_background": "light"
     },
     "output_type": "display_data"
    }
   ],
   "source": [
    "import matplotlib.pyplot as plt\n",
    "plt.plot(times_cx, fidelities)\n",
    "plt.show()"
   ]
  }
 ],
 "metadata": {
  "kernelspec": {
   "display_name": "Python 3",
   "language": "python",
   "name": "python3"
  },
  "language_info": {
   "codemirror_mode": {
    "name": "ipython",
    "version": 3
   },
   "file_extension": ".py",
   "mimetype": "text/x-python",
   "name": "python",
   "nbconvert_exporter": "python",
   "pygments_lexer": "ipython3",
   "version": "3.8.10"
  }
 },
 "nbformat": 4,
 "nbformat_minor": 5
}
